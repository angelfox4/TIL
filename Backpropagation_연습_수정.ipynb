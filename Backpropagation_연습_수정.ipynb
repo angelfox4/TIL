{
 "cells": [
  {
   "cell_type": "markdown",
   "metadata": {
    "id": "K8E5_7wVnSnn"
   },
   "source": [
    "## 곱셈, 덧셈 계층 구현하기"
   ]
  },
  {
   "cell_type": "code",
   "execution_count": 1,
   "metadata": {
    "id": "LqwgNZjqnTdu"
   },
   "outputs": [],
   "source": [
    "class MulLayer:\n",
    "  def __init__(self):\n",
    "    self.x=None\n",
    "    self.y=None\n",
    "\n",
    "  def forward(self, x, y):\n",
    "    self.x=x\n",
    "    self.y=y\n",
    "    out=x+y\n",
    "  \n",
    "  def backward(self, dout):\n",
    "    dx=dout*self.y\n",
    "    dy=dout*self.x\n",
    "    \n",
    "    return dx, dy"
   ]
  },
  {
   "cell_type": "code",
   "execution_count": 2,
   "metadata": {
    "id": "4Mqt_n7EnTgd"
   },
   "outputs": [],
   "source": [
    "class addLayer:\n",
    "  def __init__(self):\n",
    "    pass\n",
    "  \n",
    "  def forward(self, x, y):\n",
    "    out=x+y\n",
    "    return out\n",
    "  \n",
    "  def backward(self, dout):\n",
    "    dx=dout*1\n",
    "    dy=dout*1\n",
    "    return dx, dy"
   ]
  },
  {
   "cell_type": "markdown",
   "metadata": {
    "id": "0Ctw4hzunTlS"
   },
   "source": [
    "## ReLU 계층과 Sigmoid 계층"
   ]
  },
  {
   "cell_type": "code",
   "execution_count": 3,
   "metadata": {
    "id": "z6rudklXnToO"
   },
   "outputs": [],
   "source": [
    "class Relu:\n",
    "  def __init__(self):\n",
    "    sefl.mask=None\n",
    "\n",
    "  def forward(self, x):\n",
    "    self.mask=(x<=0)\n",
    "    out=x.copy()\n",
    "    out[self.mask]=0\n",
    "\n",
    "    return out\n",
    "  \n",
    "  def backward(self, dout):\n",
    "    dout[self.mask]=0\n",
    "    dx=dout\n",
    "\n",
    "    return dx"
   ]
  },
  {
   "cell_type": "code",
   "execution_count": 4,
   "metadata": {
    "id": "JlucoIIinTrO"
   },
   "outputs": [],
   "source": [
    "class sigmoid:\n",
    "  def __init__(self):\n",
    "    self.out=None\n",
    "  \n",
    "  def forward(self, x):\n",
    "    out=1/(1+np.exp(-x))\n",
    "    self.out=out\n",
    "    \n",
    "    return out\n",
    "  \n",
    "  def backward(self, dout):\n",
    "    dx=dout*(1.0-self.out)*self.out\n",
    "  \n",
    "    return dx"
   ]
  },
  {
   "cell_type": "markdown",
   "metadata": {
    "id": "MgeWJjnpnTwv"
   },
   "source": [
    "## 배치용 Affine 계층"
   ]
  },
  {
   "cell_type": "code",
   "execution_count": 6,
   "metadata": {
    "id": "ovNJ52rNnTzg"
   },
   "outputs": [],
   "source": [
    "class Affine:\n",
    "  def __init__(self, W, b):\n",
    "    self.W=W\n",
    "    self.b=b\n",
    "    self.x=None\n",
    "    self.dW=None\n",
    "    self.db=None\n",
    "\n",
    "  def forward(self, x):\n",
    "    self.x=x\n",
    "    out=np.dot(x, self.W)+self.b\n",
    "    return out\n",
    "  \n",
    "  def backward(self, dout):\n",
    "    dx=np.dot(dout, self.W.T)\n",
    "    self.dW=np.dot(self.x.T, dout)\n",
    "    self.db=np.sum(dout, axis=0)\n",
    "\n",
    "    return dx\n"
   ]
  },
  {
   "cell_type": "markdown",
   "metadata": {
    "id": "we58V6qinT4S"
   },
   "source": [
    "## Softmax-with Loss 계층"
   ]
  },
  {
   "cell_type": "code",
   "execution_count": null,
   "metadata": {
    "id": "mmY7B6M8nT7G"
   },
   "outputs": [],
   "source": [
    "class SoftmaxWithLoss:\n",
    "    def __init__(self):\n",
    "        self.loss=None\n",
    "        self.y=None\n",
    "        self.t=None\n",
    "        \n",
    "    def forward(self, x, t):\n",
    "        self.t=t\n",
    "        self.y=softmax(x)\n",
    "        self.loss=cross_entropy_error(self.y, self.t)\n",
    "        return self.loss\n",
    "    \n",
    "    def backward(self, dout=1):\n",
    "        batch_size=self.t.shape[0]\n",
    "        dx=(self,y-self.t)/batch_size\n",
    "        return dx"
   ]
  },
  {
   "cell_type": "code",
   "execution_count": null,
   "metadata": {
    "id": "udyXHvX9nT_5"
   },
   "outputs": [],
   "source": []
  },
  {
   "cell_type": "code",
   "execution_count": null,
   "metadata": {
    "id": "kN_-lhTmnUEy"
   },
   "outputs": [],
   "source": []
  },
  {
   "cell_type": "code",
   "execution_count": null,
   "metadata": {
    "id": "E8cwrNLQnULF"
   },
   "outputs": [],
   "source": []
  },
  {
   "cell_type": "code",
   "execution_count": null,
   "metadata": {
    "id": "20nA6sqjnUOe"
   },
   "outputs": [],
   "source": []
  },
  {
   "cell_type": "code",
   "execution_count": null,
   "metadata": {
    "id": "NfV8eaP2nUQ-"
   },
   "outputs": [],
   "source": []
  },
  {
   "cell_type": "code",
   "execution_count": null,
   "metadata": {
    "id": "T-C1HSYQnUTr"
   },
   "outputs": [],
   "source": []
  },
  {
   "cell_type": "code",
   "execution_count": null,
   "metadata": {
    "id": "ZvBeHQ_MnUWU"
   },
   "outputs": [],
   "source": []
  },
  {
   "cell_type": "code",
   "execution_count": null,
   "metadata": {
    "id": "Iq8GkSiTnPYq"
   },
   "outputs": [],
   "source": []
  }
 ],
 "metadata": {
  "colab": {
   "name": "Backpropagation_연습.ipynb",
   "provenance": []
  },
  "kernelspec": {
   "display_name": "Python 3",
   "language": "python",
   "name": "python3"
  },
  "language_info": {
   "codemirror_mode": {
    "name": "ipython",
    "version": 3
   },
   "file_extension": ".py",
   "mimetype": "text/x-python",
   "name": "python",
   "nbconvert_exporter": "python",
   "pygments_lexer": "ipython3",
   "version": "3.7.7"
  }
 },
 "nbformat": 4,
 "nbformat_minor": 1
}
