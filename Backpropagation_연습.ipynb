{
  "nbformat": 4,
  "nbformat_minor": 0,
  "metadata": {
    "colab": {
      "name": "Backpropagation_연습.ipynb",
      "provenance": [],
      "authorship_tag": "ABX9TyMlbjc80nHo5tB72KpUlblT",
      "include_colab_link": true
    },
    "kernelspec": {
      "name": "python3",
      "display_name": "Python 3"
    }
  },
  "cells": [
    {
      "cell_type": "markdown",
      "metadata": {
        "id": "view-in-github",
        "colab_type": "text"
      },
      "source": [
        "<a href=\"https://colab.research.google.com/github/angelfox4/TIL/blob/main/Backpropagation_%EC%97%B0%EC%8A%B5.ipynb\" target=\"_parent\"><img src=\"https://colab.research.google.com/assets/colab-badge.svg\" alt=\"Open In Colab\"/></a>"
      ]
    },
    {
      "cell_type": "markdown",
      "metadata": {
        "id": "K8E5_7wVnSnn"
      },
      "source": [
        "## 곱셈, 덧셈 계층 구현하기"
      ]
    },
    {
      "cell_type": "code",
      "metadata": {
        "id": "LqwgNZjqnTdu"
      },
      "source": [
        "class MulLayer:\r\n",
        "  def __init__(self):\r\n",
        "    self.x=None\r\n",
        "    self.y=None\r\n",
        "\r\n",
        "  def forward(self, x, y):\r\n",
        "    self.x=x\r\n",
        "    self.y=y\r\n",
        "    out=x+y\r\n",
        "  \r\n",
        "  def backward(self, dout):\r\n",
        "    dx=dout*self.y\r\n",
        "    dy=dout*self.x\r\n",
        "    \r\n",
        "    return dx, dy"
      ],
      "execution_count": 1,
      "outputs": []
    },
    {
      "cell_type": "code",
      "metadata": {
        "id": "4Mqt_n7EnTgd"
      },
      "source": [
        "class addLayer:\r\n",
        "  def __init__(self):\r\n",
        "    pass\r\n",
        "  \r\n",
        "  def forward(self, x, y):\r\n",
        "    out=x+y\r\n",
        "    return out\r\n",
        "  \r\n",
        "  def backward(self, dout):\r\n",
        "    dx=dout*1\r\n",
        "    dy=dout*1\r\n",
        "    return dx, dy"
      ],
      "execution_count": 2,
      "outputs": []
    },
    {
      "cell_type": "markdown",
      "metadata": {
        "id": "0Ctw4hzunTlS"
      },
      "source": [
        "## ReLU 계층과 Sigmoid 계층"
      ]
    },
    {
      "cell_type": "code",
      "metadata": {
        "id": "z6rudklXnToO"
      },
      "source": [
        "class Relu:\r\n",
        "  def __init__(self):\r\n",
        "    sefl.mask=None\r\n",
        "\r\n",
        "  def forward(self, x):\r\n",
        "    self.mask=(x<=0)\r\n",
        "    out=x.copy()\r\n",
        "    out[self.mask]=0\r\n",
        "\r\n",
        "    return out\r\n",
        "  \r\n",
        "  def backward(self, dout):\r\n",
        "    dout[self.mask]=0\r\n",
        "    dx=dout\r\n",
        "\r\n",
        "    return dx"
      ],
      "execution_count": 3,
      "outputs": []
    },
    {
      "cell_type": "code",
      "metadata": {
        "id": "JlucoIIinTrO"
      },
      "source": [
        "class sigmoid:\r\n",
        "  def __init__(self):\r\n",
        "    self.out=None\r\n",
        "  \r\n",
        "  def forward(self, x):\r\n",
        "    out=1/(1+np.exp(-x))\r\n",
        "    self.out=out\r\n",
        "    \r\n",
        "    return out\r\n",
        "  \r\n",
        "  def backward(self, dout):\r\n",
        "    dx=dout*(1.0-self.out)*self.out\r\n",
        "  \r\n",
        "    return dx"
      ],
      "execution_count": 4,
      "outputs": []
    },
    {
      "cell_type": "code",
      "metadata": {
        "id": "MgeWJjnpnTwv"
      },
      "source": [
        ""
      ],
      "execution_count": null,
      "outputs": []
    },
    {
      "cell_type": "code",
      "metadata": {
        "id": "ovNJ52rNnTzg"
      },
      "source": [
        ""
      ],
      "execution_count": null,
      "outputs": []
    },
    {
      "cell_type": "code",
      "metadata": {
        "id": "we58V6qinT4S"
      },
      "source": [
        ""
      ],
      "execution_count": null,
      "outputs": []
    },
    {
      "cell_type": "code",
      "metadata": {
        "id": "mmY7B6M8nT7G"
      },
      "source": [
        ""
      ],
      "execution_count": null,
      "outputs": []
    },
    {
      "cell_type": "code",
      "metadata": {
        "id": "udyXHvX9nT_5"
      },
      "source": [
        ""
      ],
      "execution_count": null,
      "outputs": []
    },
    {
      "cell_type": "code",
      "metadata": {
        "id": "kN_-lhTmnUEy"
      },
      "source": [
        ""
      ],
      "execution_count": null,
      "outputs": []
    },
    {
      "cell_type": "code",
      "metadata": {
        "id": "E8cwrNLQnULF"
      },
      "source": [
        ""
      ],
      "execution_count": null,
      "outputs": []
    },
    {
      "cell_type": "code",
      "metadata": {
        "id": "20nA6sqjnUOe"
      },
      "source": [
        ""
      ],
      "execution_count": null,
      "outputs": []
    },
    {
      "cell_type": "code",
      "metadata": {
        "id": "NfV8eaP2nUQ-"
      },
      "source": [
        ""
      ],
      "execution_count": null,
      "outputs": []
    },
    {
      "cell_type": "code",
      "metadata": {
        "id": "T-C1HSYQnUTr"
      },
      "source": [
        ""
      ],
      "execution_count": null,
      "outputs": []
    },
    {
      "cell_type": "code",
      "metadata": {
        "id": "ZvBeHQ_MnUWU"
      },
      "source": [
        ""
      ],
      "execution_count": null,
      "outputs": []
    },
    {
      "cell_type": "code",
      "metadata": {
        "id": "Iq8GkSiTnPYq"
      },
      "source": [
        ""
      ],
      "execution_count": null,
      "outputs": []
    }
  ]
}